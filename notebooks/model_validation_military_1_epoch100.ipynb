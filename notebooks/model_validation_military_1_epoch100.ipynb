{
 "cells": [
  {
   "cell_type": "code",
   "execution_count": 13,
   "metadata": {},
   "outputs": [],
   "source": [
    "from ultralytics import YOLO"
   ]
  },
  {
   "cell_type": "code",
   "execution_count": 14,
   "metadata": {},
   "outputs": [],
   "source": [
    "models = [YOLO('C:\\\\Users\\\\micha\\\\Documents\\\\LCRTOD\\\\models\\\\runs\\\\yolov8_roboflow_military_1_epoch_100\\\\detect\\\\train\\\\weights\\\\best.pt'),\n",
    "          YOLO('C:\\\\Users\\\\micha\\\\Documents\\\\LCRTOD\\\\models\\\\runs\\\\yolov8_roboflow_military_1_epoch_100\\\\detect\\\\train\\\\weights\\\\best.onnx'),\n",
    "          YOLO('C:\\\\Users\\\\micha\\\\Documents\\\\LCRTOD\\\\models\\\\runs\\\\yolov8_roboflow_military_1_epoch_100\\\\detect\\\\train\\\\weights\\\\best_quant.onnx')]"
   ]
  },
  {
   "cell_type": "code",
   "execution_count": 15,
   "metadata": {},
   "outputs": [],
   "source": [
    "model_names = ['best.pt', 'best.onnx', 'best_quant.onnx']"
   ]
  },
  {
   "cell_type": "code",
   "execution_count": 16,
   "metadata": {},
   "outputs": [
    {
     "name": "stdout",
     "output_type": "stream",
     "text": [
      "Validation results for best.pt\n",
      "Ultralytics YOLOv8.2.2  Python-3.9.7 torch-2.2.2+cpu CPU (AMD Ryzen 7 5800H with Radeon Graphics)\n",
      "Model summary (fused): 168 layers, 3006818 parameters, 0 gradients, 8.1 GFLOPs\n"
     ]
    },
    {
     "name": "stderr",
     "output_type": "stream",
     "text": [
      "\u001b[34m\u001b[1mval: \u001b[0mScanning C:\\Users\\micha\\Documents\\LCRTOD\\models\\runs\\valid\\labels... 670 images, 1 backgrounds, 0 corrupt: 100%|██████████| 670/670 [00:01<00:00, 577.59it/s]\n"
     ]
    },
    {
     "name": "stdout",
     "output_type": "stream",
     "text": [
      "\u001b[34m\u001b[1mval: \u001b[0mNew cache created: C:\\Users\\micha\\Documents\\LCRTOD\\models\\runs\\valid\\labels.cache\n"
     ]
    },
    {
     "name": "stderr",
     "output_type": "stream",
     "text": [
      "                 Class     Images  Instances      Box(P          R      mAP50  mAP50-95): 100%|██████████| 42/42 [00:52<00:00,  1.24s/it]\n"
     ]
    },
    {
     "name": "stdout",
     "output_type": "stream",
     "text": [
      "                   all        670       1887      0.889      0.843      0.898      0.681\n",
      "              Airplane        670         72       0.96      0.958      0.987      0.846\n",
      "            Helicopter        670        125      0.906      0.928      0.967        0.8\n",
      "                Person        670        679      0.872      0.803      0.869      0.597\n",
      "                  Tank        670        541      0.981      0.913      0.969      0.876\n",
      "               Vehicle        670        132      0.796      0.826      0.867      0.597\n",
      "              airplane        670        338      0.819      0.627       0.73      0.369\n",
      "Speed: 1.5ms preprocess, 70.4ms inference, 0.0ms loss, 0.3ms postprocess per image\n",
      "Results saved to \u001b[1mruns\\detect\\val2\u001b[0m\n",
      "Validation results for best.onnx\n",
      "Ultralytics YOLOv8.2.2  Python-3.9.7 torch-2.2.2+cpu CPU (AMD Ryzen 7 5800H with Radeon Graphics)\n",
      "Loading C:\\Users\\micha\\Documents\\LCRTOD\\models\\runs\\yolov8_roboflow_military_1_epoch_100\\detect\\train\\weights\\best.onnx for ONNX Runtime inference...\n",
      "Forcing batch=1 square inference (1,3,640,640) for non-PyTorch models\n"
     ]
    },
    {
     "name": "stderr",
     "output_type": "stream",
     "text": [
      "\u001b[34m\u001b[1mval: \u001b[0mScanning C:\\Users\\micha\\Documents\\LCRTOD\\models\\runs\\valid\\labels.cache... 670 images, 1 backgrounds, 0 corrupt: 100%|██████████| 670/670 [00:00<?, ?it/s]\n",
      "                 Class     Images  Instances      Box(P          R      mAP50  mAP50-95): 100%|██████████| 670/670 [00:29<00:00, 22.60it/s]\n"
     ]
    },
    {
     "name": "stdout",
     "output_type": "stream",
     "text": [
      "                   all        670       1887      0.906       0.82      0.886       0.67\n",
      "              Airplane        670         72          1      0.961      0.994      0.846\n",
      "            Helicopter        670        125      0.895       0.92      0.933      0.776\n",
      "                Person        670        679      0.909       0.75      0.868      0.594\n",
      "                  Tank        670        541       0.97      0.921      0.965      0.864\n",
      "               Vehicle        670        132      0.812      0.788      0.839      0.582\n",
      "              airplane        670        338      0.851       0.58      0.718       0.36\n",
      "Speed: 0.9ms preprocess, 35.1ms inference, 0.0ms loss, 0.8ms postprocess per image\n",
      "Results saved to \u001b[1mruns\\detect\\val3\u001b[0m\n",
      "Validation results for best_quant.onnx\n",
      "Ultralytics YOLOv8.2.2  Python-3.9.7 torch-2.2.2+cpu CPU (AMD Ryzen 7 5800H with Radeon Graphics)\n",
      "Loading C:\\Users\\micha\\Documents\\LCRTOD\\models\\runs\\yolov8_roboflow_military_1_epoch_100\\detect\\train\\weights\\best_quant.onnx for ONNX Runtime inference...\n",
      "Forcing batch=1 square inference (1,3,640,640) for non-PyTorch models\n"
     ]
    },
    {
     "name": "stderr",
     "output_type": "stream",
     "text": [
      "\u001b[34m\u001b[1mval: \u001b[0mScanning C:\\Users\\micha\\Documents\\LCRTOD\\models\\runs\\valid\\labels.cache... 670 images, 1 backgrounds, 0 corrupt: 100%|██████████| 670/670 [00:00<?, ?it/s]\n",
      "                 Class     Images  Instances      Box(P          R      mAP50  mAP50-95): 100%|██████████| 670/670 [00:43<00:00, 15.23it/s]\n"
     ]
    },
    {
     "name": "stdout",
     "output_type": "stream",
     "text": [
      "                   all        670       1887      0.906      0.817      0.886      0.666\n",
      "              Airplane        670         72      0.998      0.958      0.992      0.833\n",
      "            Helicopter        670        125      0.883       0.92      0.945      0.771\n",
      "                Person        670        679      0.896       0.76      0.864      0.591\n",
      "                  Tank        670        541      0.957      0.924      0.965      0.864\n",
      "               Vehicle        670        132      0.812       0.78       0.84      0.579\n",
      "              airplane        670        338      0.887      0.557      0.711      0.356\n",
      "Speed: 0.9ms preprocess, 56.3ms inference, 0.0ms loss, 0.8ms postprocess per image\n",
      "Results saved to \u001b[1mruns\\detect\\val4\u001b[0m\n"
     ]
    }
   ],
   "source": [
    "for i in range(len(models)):\n",
    "    print(f'Validation results for {model_names[i]}')\n",
    "    validation_results = models[i].val(data = 'C:\\\\Users\\\\micha\\\\Documents\\\\LCRTOD\\\\models\\\\runs\\\\data.yaml')"
   ]
  }
 ],
 "metadata": {
  "kernelspec": {
   "display_name": "Python 3",
   "language": "python",
   "name": "python3"
  },
  "language_info": {
   "codemirror_mode": {
    "name": "ipython",
    "version": 3
   },
   "file_extension": ".py",
   "mimetype": "text/x-python",
   "name": "python",
   "nbconvert_exporter": "python",
   "pygments_lexer": "ipython3",
   "version": "3.9.7"
  }
 },
 "nbformat": 4,
 "nbformat_minor": 2
}
